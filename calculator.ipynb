{
 "cells": [
  {
   "cell_type": "code",
   "execution_count": 17,
   "id": "5089b0e4",
   "metadata": {},
   "outputs": [
    {
     "name": "stdout",
     "output_type": "stream",
     "text": [
      "Which operation would u like to perform:\n",
      "1. ADD\n",
      "2. SUBTRACT\n",
      "3.DIVIDE\n",
      "4. MULTIPLY\n",
      "2\n",
      "Enter your first number100\n",
      "Enter your second number80\n",
      "The result is = 20\n"
     ]
    }
   ],
   "source": [
    "print(\"Which operation would u like to perform:\")\n",
    "print(\"1. ADD\")\n",
    "print(\"2. SUBTRACT\")\n",
    "print(\"3.DIVIDE\")\n",
    "print(\"4. MULTIPLY\")\n",
    "\n",
    "operation = input()\n",
    "\n",
    "if operation== \"1\":\n",
    "    num1= input(\"Enter your first number\")\n",
    "    num2= input (\"Enter your second number\")\n",
    "    print(\"The result is =\",int(num1)+int(num2))\n",
    "elif operation == \"2\":\n",
    "    num1= input(\"Enter your first number\")\n",
    "    num2= input (\"Enter your second number\")\n",
    "    print(\"The result is =\",int(num1)-int(num2))    \n",
    "elif operation == \"3\":\n",
    "    num1= input(\"Enter your first number\")\n",
    "    num2= input (\"Enter your second number\")\n",
    "    print(\"The result is =\",int(num1)/(num2))\n",
    "\n",
    "elif operation == \"4\":\n",
    "    num1= input(\"Enter your first number\")\n",
    "    num2= input (\"Enter your second number\")\n",
    "    print(\"The result is =\",int(num1)*int(num2))\n",
    "else :\n",
    "    print (\"no value\")\n",
    "    "
   ]
  },
  {
   "cell_type": "code",
   "execution_count": null,
   "id": "0b50359e",
   "metadata": {},
   "outputs": [],
   "source": []
  }
 ],
 "metadata": {
  "kernelspec": {
   "display_name": "Python 3 (ipykernel)",
   "language": "python",
   "name": "python3"
  },
  "language_info": {
   "codemirror_mode": {
    "name": "ipython",
    "version": 3
   },
   "file_extension": ".py",
   "mimetype": "text/x-python",
   "name": "python",
   "nbconvert_exporter": "python",
   "pygments_lexer": "ipython3",
   "version": "3.9.13"
  }
 },
 "nbformat": 4,
 "nbformat_minor": 5
}
